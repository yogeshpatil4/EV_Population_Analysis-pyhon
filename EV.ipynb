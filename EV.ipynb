{
 "cells": [
  {
   "cell_type": "markdown",
   "id": "40dcff3e",
   "metadata": {},
   "source": [
    "# 🚗 Electric Vehicle Population Data Analysis"
   ]
  },
  {
   "cell_type": "markdown",
   "id": "b5442574",
   "metadata": {},
   "source": [
    "## 1️⃣ Project Overview\n",
    "Electric Vehicles (EVs) are becoming increasingly popular as a cleaner alternative to traditional fuel-based vehicles. This project analyzes a dataset of registered EVs to understand trends in EV adoption, key manufacturers, and other relevant insights.\n"
   ]
  },
  {
   "cell_type": "markdown",
   "id": "093d5e54",
   "metadata": {},
   "source": [
    "## 2️⃣ Objectives\n",
    "- 📆 **EV Adoption Over Time**: Analyze the growth of the EV population by model year.\n",
    "- 🗺️ **Geographical Distribution**: Understand where EVs are most commonly registered (e.g., by county or city).\n",
    "- 🔋 **EV Types**: Breakdown of the dataset by electric vehicle type (BEV, etc.).\n",
    "- 🚘 **Make and Model Popularity**: Identify the most popular makes and models among the registered EVs.\n",
    "- ⚡ **Electric Range Analysis**: Analyze the electric range of vehicles to see how EV technology is progressing.\n",
    "- 📈 **Estimated Growth in Market Size**: Analyze and find the estimated growth in the market size of electric vehicles."
   ]
  },
  {
   "cell_type": "markdown",
   "id": "99475662",
   "metadata": {},
   "source": [
    "## 3️⃣ Dataset Overview & Loading"
   ]
  },
  {
   "cell_type": "markdown",
   "id": "c20fa47b",
   "metadata": {},
   "source": [
    "### 📌 Source\n",
    "\n",
    "This dataset is sourced from the U.S. government’s open data portal ([data.gov](https://www.data.gov/)) and contains information on registered electric vehicles.\n",
    "\n",
    "\n"
   ]
  },
  {
   "cell_type": "markdown",
   "id": "b50a21be",
   "metadata": {},
   "source": [
    "### 📋 Description\n",
    "The dataset includes records of registered EVs with the following key features:\n",
    "\n",
    "- **VIN (1-10):** First 10 characters of the Vehicle Identification Number (VIN).\n",
    "- **County:** County where the vehicle is registered.\n",
    "- **City:** City where the vehicle is registered.\n",
    "- **State:** State of registration.\n",
    "- **Postal Code:** ZIP code of the registered location.\n",
    "- **Model Year:** Manufacturing year of the vehicle.\n",
    "- **Make:** Vehicle manufacturer (e.g., Tesla, Nissan, BMW).\n",
    "- **Model:** Specific car model.\n",
    "- **Electric Vehicle Type:** BEV (Battery Electric Vehicle) or PHEV (Plug-in Hybrid).\n",
    "- **CAFV Eligibility:** Indicates if the vehicle qualifies for clean fuel incentives.\n",
    "- **Electric Range:** Estimated miles per full charge.\n",
    "- **Base MSRP:** Manufacturer’s Suggested Retail Price.\n",
    "- **Legislative District:** Legislative district where the vehicle is registered.\n",
    "- **DOL Vehicle ID:** Unique identifier assigned by the Department of Licensing.\n",
    "- **Vehicle Location:** Latitude and longitude of the registered vehicle.\n",
    "- **Electric Utility:** Electric utility provider for the vehicle’s registered location.\n",
    "- **2020 Census Tract:** Census tract based on 2020 census data.\n"
   ]
  },
  {
   "cell_type": "markdown",
   "id": "7e6f77a2",
   "metadata": {},
   "source": [
    "### 📥 Importing Required Libraries"
   ]
  },
  {
   "cell_type": "code",
   "execution_count": 1,
   "id": "6b465cad",
   "metadata": {},
   "outputs": [],
   "source": [
    "import numpy as np\n",
    "import pandas as pd\n",
    "import matplotlib.pyplot as plt\n",
    "import seaborn as sns"
   ]
  },
  {
   "cell_type": "markdown",
   "id": "b37f10f2",
   "metadata": {},
   "source": [
    "### 📥 Loading the Dataset"
   ]
  },
  {
   "cell_type": "code",
   "execution_count": 2,
   "id": "fd51df0c",
   "metadata": {},
   "outputs": [
    {
     "data": {
      "text/html": [
       "<div>\n",
       "<style scoped>\n",
       "    .dataframe tbody tr th:only-of-type {\n",
       "        vertical-align: middle;\n",
       "    }\n",
       "\n",
       "    .dataframe tbody tr th {\n",
       "        vertical-align: top;\n",
       "    }\n",
       "\n",
       "    .dataframe thead th {\n",
       "        text-align: right;\n",
       "    }\n",
       "</style>\n",
       "<table border=\"1\" class=\"dataframe\">\n",
       "  <thead>\n",
       "    <tr style=\"text-align: right;\">\n",
       "      <th></th>\n",
       "      <th>VIN (1-10)</th>\n",
       "      <th>County</th>\n",
       "      <th>City</th>\n",
       "      <th>State</th>\n",
       "      <th>Postal Code</th>\n",
       "      <th>Model Year</th>\n",
       "      <th>Make</th>\n",
       "      <th>Model</th>\n",
       "      <th>Electric Vehicle Type</th>\n",
       "      <th>Clean Alternative Fuel Vehicle (CAFV) Eligibility</th>\n",
       "      <th>Electric Range</th>\n",
       "      <th>Base MSRP</th>\n",
       "      <th>Legislative District</th>\n",
       "      <th>DOL Vehicle ID</th>\n",
       "      <th>Vehicle Location</th>\n",
       "      <th>Electric Utility</th>\n",
       "      <th>2020 Census Tract</th>\n",
       "    </tr>\n",
       "  </thead>\n",
       "  <tbody>\n",
       "    <tr>\n",
       "      <th>0</th>\n",
       "      <td>5YJ3E1EBXK</td>\n",
       "      <td>King</td>\n",
       "      <td>Seattle</td>\n",
       "      <td>WA</td>\n",
       "      <td>98178.0</td>\n",
       "      <td>2019</td>\n",
       "      <td>TESLA</td>\n",
       "      <td>MODEL 3</td>\n",
       "      <td>Battery Electric Vehicle (BEV)</td>\n",
       "      <td>Clean Alternative Fuel Vehicle Eligible</td>\n",
       "      <td>220.0</td>\n",
       "      <td>0.0</td>\n",
       "      <td>37.0</td>\n",
       "      <td>477309682</td>\n",
       "      <td>POINT (-122.23825 47.49461)</td>\n",
       "      <td>CITY OF SEATTLE - (WA)|CITY OF TACOMA - (WA)</td>\n",
       "      <td>5.303301e+10</td>\n",
       "    </tr>\n",
       "    <tr>\n",
       "      <th>1</th>\n",
       "      <td>5YJYGDEE3L</td>\n",
       "      <td>Kitsap</td>\n",
       "      <td>Poulsbo</td>\n",
       "      <td>WA</td>\n",
       "      <td>98370.0</td>\n",
       "      <td>2020</td>\n",
       "      <td>TESLA</td>\n",
       "      <td>MODEL Y</td>\n",
       "      <td>Battery Electric Vehicle (BEV)</td>\n",
       "      <td>Clean Alternative Fuel Vehicle Eligible</td>\n",
       "      <td>291.0</td>\n",
       "      <td>0.0</td>\n",
       "      <td>23.0</td>\n",
       "      <td>109705683</td>\n",
       "      <td>POINT (-122.64681 47.73689)</td>\n",
       "      <td>PUGET SOUND ENERGY INC</td>\n",
       "      <td>5.303509e+10</td>\n",
       "    </tr>\n",
       "    <tr>\n",
       "      <th>2</th>\n",
       "      <td>KM8KRDAF5P</td>\n",
       "      <td>Kitsap</td>\n",
       "      <td>Olalla</td>\n",
       "      <td>WA</td>\n",
       "      <td>98359.0</td>\n",
       "      <td>2023</td>\n",
       "      <td>HYUNDAI</td>\n",
       "      <td>IONIQ 5</td>\n",
       "      <td>Battery Electric Vehicle (BEV)</td>\n",
       "      <td>Eligibility unknown as battery range has not b...</td>\n",
       "      <td>0.0</td>\n",
       "      <td>0.0</td>\n",
       "      <td>26.0</td>\n",
       "      <td>230390492</td>\n",
       "      <td>POINT (-122.54729 47.42602)</td>\n",
       "      <td>PUGET SOUND ENERGY INC</td>\n",
       "      <td>5.303509e+10</td>\n",
       "    </tr>\n",
       "    <tr>\n",
       "      <th>3</th>\n",
       "      <td>5UXTA6C0XM</td>\n",
       "      <td>Kitsap</td>\n",
       "      <td>Seabeck</td>\n",
       "      <td>WA</td>\n",
       "      <td>98380.0</td>\n",
       "      <td>2021</td>\n",
       "      <td>BMW</td>\n",
       "      <td>X5</td>\n",
       "      <td>Plug-in Hybrid Electric Vehicle (PHEV)</td>\n",
       "      <td>Clean Alternative Fuel Vehicle Eligible</td>\n",
       "      <td>30.0</td>\n",
       "      <td>0.0</td>\n",
       "      <td>35.0</td>\n",
       "      <td>267929112</td>\n",
       "      <td>POINT (-122.81585 47.64509)</td>\n",
       "      <td>PUGET SOUND ENERGY INC</td>\n",
       "      <td>5.303509e+10</td>\n",
       "    </tr>\n",
       "    <tr>\n",
       "      <th>4</th>\n",
       "      <td>JTMAB3FV7P</td>\n",
       "      <td>Thurston</td>\n",
       "      <td>Rainier</td>\n",
       "      <td>WA</td>\n",
       "      <td>98576.0</td>\n",
       "      <td>2023</td>\n",
       "      <td>TOYOTA</td>\n",
       "      <td>RAV4 PRIME</td>\n",
       "      <td>Plug-in Hybrid Electric Vehicle (PHEV)</td>\n",
       "      <td>Clean Alternative Fuel Vehicle Eligible</td>\n",
       "      <td>42.0</td>\n",
       "      <td>0.0</td>\n",
       "      <td>2.0</td>\n",
       "      <td>236505139</td>\n",
       "      <td>POINT (-122.68993 46.88897)</td>\n",
       "      <td>PUGET SOUND ENERGY INC</td>\n",
       "      <td>5.306701e+10</td>\n",
       "    </tr>\n",
       "  </tbody>\n",
       "</table>\n",
       "</div>"
      ],
      "text/plain": [
       "   VIN (1-10)    County     City State  Postal Code  Model Year     Make  \\\n",
       "0  5YJ3E1EBXK      King  Seattle    WA      98178.0        2019    TESLA   \n",
       "1  5YJYGDEE3L    Kitsap  Poulsbo    WA      98370.0        2020    TESLA   \n",
       "2  KM8KRDAF5P    Kitsap   Olalla    WA      98359.0        2023  HYUNDAI   \n",
       "3  5UXTA6C0XM    Kitsap  Seabeck    WA      98380.0        2021      BMW   \n",
       "4  JTMAB3FV7P  Thurston  Rainier    WA      98576.0        2023   TOYOTA   \n",
       "\n",
       "        Model                   Electric Vehicle Type  \\\n",
       "0     MODEL 3          Battery Electric Vehicle (BEV)   \n",
       "1     MODEL Y          Battery Electric Vehicle (BEV)   \n",
       "2     IONIQ 5          Battery Electric Vehicle (BEV)   \n",
       "3          X5  Plug-in Hybrid Electric Vehicle (PHEV)   \n",
       "4  RAV4 PRIME  Plug-in Hybrid Electric Vehicle (PHEV)   \n",
       "\n",
       "   Clean Alternative Fuel Vehicle (CAFV) Eligibility  Electric Range  \\\n",
       "0            Clean Alternative Fuel Vehicle Eligible           220.0   \n",
       "1            Clean Alternative Fuel Vehicle Eligible           291.0   \n",
       "2  Eligibility unknown as battery range has not b...             0.0   \n",
       "3            Clean Alternative Fuel Vehicle Eligible            30.0   \n",
       "4            Clean Alternative Fuel Vehicle Eligible            42.0   \n",
       "\n",
       "   Base MSRP  Legislative District  DOL Vehicle ID  \\\n",
       "0        0.0                  37.0       477309682   \n",
       "1        0.0                  23.0       109705683   \n",
       "2        0.0                  26.0       230390492   \n",
       "3        0.0                  35.0       267929112   \n",
       "4        0.0                   2.0       236505139   \n",
       "\n",
       "              Vehicle Location                              Electric Utility  \\\n",
       "0  POINT (-122.23825 47.49461)  CITY OF SEATTLE - (WA)|CITY OF TACOMA - (WA)   \n",
       "1  POINT (-122.64681 47.73689)                        PUGET SOUND ENERGY INC   \n",
       "2  POINT (-122.54729 47.42602)                        PUGET SOUND ENERGY INC   \n",
       "3  POINT (-122.81585 47.64509)                        PUGET SOUND ENERGY INC   \n",
       "4  POINT (-122.68993 46.88897)                        PUGET SOUND ENERGY INC   \n",
       "\n",
       "   2020 Census Tract  \n",
       "0       5.303301e+10  \n",
       "1       5.303509e+10  \n",
       "2       5.303509e+10  \n",
       "3       5.303509e+10  \n",
       "4       5.306701e+10  "
      ]
     },
     "execution_count": 2,
     "metadata": {},
     "output_type": "execute_result"
    }
   ],
   "source": [
    "df=pd.read_csv('Electric_Vehicle_Population_Data.csv')\n",
    "df.head()"
   ]
  },
  {
   "cell_type": "markdown",
   "id": "292c7c12",
   "metadata": {},
   "source": [
    "### 🔍 Displaying basic information about the dataset\n"
   ]
  },
  {
   "cell_type": "code",
   "execution_count": 3,
   "id": "8ecbf0c7",
   "metadata": {},
   "outputs": [
    {
     "data": {
      "text/plain": [
       "(235692, 17)"
      ]
     },
     "execution_count": 3,
     "metadata": {},
     "output_type": "execute_result"
    }
   ],
   "source": [
    "df.shape"
   ]
  },
  {
   "cell_type": "code",
   "execution_count": 4,
   "id": "4840d868",
   "metadata": {},
   "outputs": [
    {
     "name": "stdout",
     "output_type": "stream",
     "text": [
      "<class 'pandas.core.frame.DataFrame'>\n",
      "RangeIndex: 235692 entries, 0 to 235691\n",
      "Data columns (total 17 columns):\n",
      " #   Column                                             Non-Null Count   Dtype  \n",
      "---  ------                                             --------------   -----  \n",
      " 0   VIN (1-10)                                         235692 non-null  object \n",
      " 1   County                                             235689 non-null  object \n",
      " 2   City                                               235689 non-null  object \n",
      " 3   State                                              235692 non-null  object \n",
      " 4   Postal Code                                        235689 non-null  float64\n",
      " 5   Model Year                                         235692 non-null  int64  \n",
      " 6   Make                                               235692 non-null  object \n",
      " 7   Model                                              235692 non-null  object \n",
      " 8   Electric Vehicle Type                              235692 non-null  object \n",
      " 9   Clean Alternative Fuel Vehicle (CAFV) Eligibility  235692 non-null  object \n",
      " 10  Electric Range                                     235656 non-null  float64\n",
      " 11  Base MSRP                                          235656 non-null  float64\n",
      " 12  Legislative District                               235198 non-null  float64\n",
      " 13  DOL Vehicle ID                                     235692 non-null  int64  \n",
      " 14  Vehicle Location                                   235682 non-null  object \n",
      " 15  Electric Utility                                   235689 non-null  object \n",
      " 16  2020 Census Tract                                  235689 non-null  float64\n",
      "dtypes: float64(5), int64(2), object(10)\n",
      "memory usage: 30.6+ MB\n"
     ]
    }
   ],
   "source": [
    "df.info()"
   ]
  },
  {
   "cell_type": "code",
   "execution_count": 5,
   "id": "51ac1ad6",
   "metadata": {},
   "outputs": [
    {
     "data": {
      "text/html": [
       "<div>\n",
       "<style scoped>\n",
       "    .dataframe tbody tr th:only-of-type {\n",
       "        vertical-align: middle;\n",
       "    }\n",
       "\n",
       "    .dataframe tbody tr th {\n",
       "        vertical-align: top;\n",
       "    }\n",
       "\n",
       "    .dataframe thead th {\n",
       "        text-align: right;\n",
       "    }\n",
       "</style>\n",
       "<table border=\"1\" class=\"dataframe\">\n",
       "  <thead>\n",
       "    <tr style=\"text-align: right;\">\n",
       "      <th></th>\n",
       "      <th>Postal Code</th>\n",
       "      <th>Model Year</th>\n",
       "      <th>Electric Range</th>\n",
       "      <th>Base MSRP</th>\n",
       "      <th>Legislative District</th>\n",
       "      <th>DOL Vehicle ID</th>\n",
       "      <th>2020 Census Tract</th>\n",
       "    </tr>\n",
       "  </thead>\n",
       "  <tbody>\n",
       "    <tr>\n",
       "      <th>count</th>\n",
       "      <td>235689.000000</td>\n",
       "      <td>235692.000000</td>\n",
       "      <td>235656.000000</td>\n",
       "      <td>235656.000000</td>\n",
       "      <td>235198.000000</td>\n",
       "      <td>2.356920e+05</td>\n",
       "      <td>2.356890e+05</td>\n",
       "    </tr>\n",
       "    <tr>\n",
       "      <th>mean</th>\n",
       "      <td>98177.656463</td>\n",
       "      <td>2021.406658</td>\n",
       "      <td>46.262569</td>\n",
       "      <td>787.268328</td>\n",
       "      <td>28.879519</td>\n",
       "      <td>2.353127e+08</td>\n",
       "      <td>5.298066e+10</td>\n",
       "    </tr>\n",
       "    <tr>\n",
       "      <th>std</th>\n",
       "      <td>2524.218661</td>\n",
       "      <td>2.991908</td>\n",
       "      <td>84.045829</td>\n",
       "      <td>7177.668305</td>\n",
       "      <td>14.904644</td>\n",
       "      <td>6.799098e+07</td>\n",
       "      <td>1.521066e+09</td>\n",
       "    </tr>\n",
       "    <tr>\n",
       "      <th>min</th>\n",
       "      <td>1731.000000</td>\n",
       "      <td>2000.000000</td>\n",
       "      <td>0.000000</td>\n",
       "      <td>0.000000</td>\n",
       "      <td>1.000000</td>\n",
       "      <td>4.385000e+03</td>\n",
       "      <td>1.001020e+09</td>\n",
       "    </tr>\n",
       "    <tr>\n",
       "      <th>25%</th>\n",
       "      <td>98052.000000</td>\n",
       "      <td>2020.000000</td>\n",
       "      <td>0.000000</td>\n",
       "      <td>0.000000</td>\n",
       "      <td>17.000000</td>\n",
       "      <td>2.053457e+08</td>\n",
       "      <td>5.303301e+10</td>\n",
       "    </tr>\n",
       "    <tr>\n",
       "      <th>50%</th>\n",
       "      <td>98126.000000</td>\n",
       "      <td>2023.000000</td>\n",
       "      <td>0.000000</td>\n",
       "      <td>0.000000</td>\n",
       "      <td>32.000000</td>\n",
       "      <td>2.522795e+08</td>\n",
       "      <td>5.303303e+10</td>\n",
       "    </tr>\n",
       "    <tr>\n",
       "      <th>75%</th>\n",
       "      <td>98374.000000</td>\n",
       "      <td>2024.000000</td>\n",
       "      <td>38.000000</td>\n",
       "      <td>0.000000</td>\n",
       "      <td>42.000000</td>\n",
       "      <td>2.696401e+08</td>\n",
       "      <td>5.305307e+10</td>\n",
       "    </tr>\n",
       "    <tr>\n",
       "      <th>max</th>\n",
       "      <td>99577.000000</td>\n",
       "      <td>2025.000000</td>\n",
       "      <td>337.000000</td>\n",
       "      <td>845000.000000</td>\n",
       "      <td>49.000000</td>\n",
       "      <td>4.792548e+08</td>\n",
       "      <td>5.602100e+10</td>\n",
       "    </tr>\n",
       "  </tbody>\n",
       "</table>\n",
       "</div>"
      ],
      "text/plain": [
       "         Postal Code     Model Year  Electric Range      Base MSRP  \\\n",
       "count  235689.000000  235692.000000   235656.000000  235656.000000   \n",
       "mean    98177.656463    2021.406658       46.262569     787.268328   \n",
       "std      2524.218661       2.991908       84.045829    7177.668305   \n",
       "min      1731.000000    2000.000000        0.000000       0.000000   \n",
       "25%     98052.000000    2020.000000        0.000000       0.000000   \n",
       "50%     98126.000000    2023.000000        0.000000       0.000000   \n",
       "75%     98374.000000    2024.000000       38.000000       0.000000   \n",
       "max     99577.000000    2025.000000      337.000000  845000.000000   \n",
       "\n",
       "       Legislative District  DOL Vehicle ID  2020 Census Tract  \n",
       "count         235198.000000    2.356920e+05       2.356890e+05  \n",
       "mean              28.879519    2.353127e+08       5.298066e+10  \n",
       "std               14.904644    6.799098e+07       1.521066e+09  \n",
       "min                1.000000    4.385000e+03       1.001020e+09  \n",
       "25%               17.000000    2.053457e+08       5.303301e+10  \n",
       "50%               32.000000    2.522795e+08       5.303303e+10  \n",
       "75%               42.000000    2.696401e+08       5.305307e+10  \n",
       "max               49.000000    4.792548e+08       5.602100e+10  "
      ]
     },
     "execution_count": 5,
     "metadata": {},
     "output_type": "execute_result"
    }
   ],
   "source": [
    "df.describe()"
   ]
  },
  {
   "cell_type": "markdown",
   "id": "931cfc68",
   "metadata": {},
   "source": [
    "## 4️⃣ Data Preprocessing & Cleaning"
   ]
  },
  {
   "cell_type": "markdown",
   "id": "a1d8210d",
   "metadata": {},
   "source": [
    "### 🛠️ Checking for Missing Values"
   ]
  },
  {
   "cell_type": "code",
   "execution_count": 6,
   "id": "f9622da0",
   "metadata": {},
   "outputs": [
    {
     "data": {
      "text/plain": [
       "VIN (1-10)                                             0\n",
       "County                                                 3\n",
       "City                                                   3\n",
       "State                                                  0\n",
       "Postal Code                                            3\n",
       "Model Year                                             0\n",
       "Make                                                   0\n",
       "Model                                                  0\n",
       "Electric Vehicle Type                                  0\n",
       "Clean Alternative Fuel Vehicle (CAFV) Eligibility      0\n",
       "Electric Range                                        36\n",
       "Base MSRP                                             36\n",
       "Legislative District                                 494\n",
       "DOL Vehicle ID                                         0\n",
       "Vehicle Location                                      10\n",
       "Electric Utility                                       3\n",
       "2020 Census Tract                                      3\n",
       "dtype: int64"
      ]
     },
     "execution_count": 6,
     "metadata": {},
     "output_type": "execute_result"
    }
   ],
   "source": [
    "df.isnull().sum()"
   ]
  },
  {
   "cell_type": "markdown",
   "id": "ffbd579a",
   "metadata": {},
   "source": [
    "### 🛠️ Checking for Dublicate Values"
   ]
  },
  {
   "cell_type": "code",
   "execution_count": 7,
   "id": "cef9b68c",
   "metadata": {},
   "outputs": [
    {
     "data": {
      "text/plain": [
       "0"
      ]
     },
     "execution_count": 7,
     "metadata": {},
     "output_type": "execute_result"
    }
   ],
   "source": [
    "df.duplicated().sum()"
   ]
  },
  {
   "cell_type": "markdown",
   "id": "195a1ce2",
   "metadata": {},
   "source": [
    "### 🔧 Data Cleaning"
   ]
  },
  {
   "cell_type": "code",
   "execution_count": 8,
   "id": "18de01c2",
   "metadata": {},
   "outputs": [],
   "source": [
    "# Handling missing values\n",
    "df=df.dropna()"
   ]
  },
  {
   "cell_type": "code",
   "execution_count": 9,
   "id": "e75f200a",
   "metadata": {},
   "outputs": [],
   "source": [
    "# Standardizing column names\n",
    "df.columns = df.columns.str.strip().str.lower().str.replace(' ', '_')"
   ]
  },
  {
   "cell_type": "code",
   "execution_count": 10,
   "id": "3e6368dd",
   "metadata": {},
   "outputs": [],
   "source": [
    "# Standardizing categorical text values\n",
    "df['make'] = df['make'].str.title()\n",
    "df['model'] = df['model'].str.upper()\n"
   ]
  },
  {
   "cell_type": "code",
   "execution_count": 11,
   "id": "6f3359ce",
   "metadata": {},
   "outputs": [
    {
     "data": {
      "text/html": [
       "<div>\n",
       "<style scoped>\n",
       "    .dataframe tbody tr th:only-of-type {\n",
       "        vertical-align: middle;\n",
       "    }\n",
       "\n",
       "    .dataframe tbody tr th {\n",
       "        vertical-align: top;\n",
       "    }\n",
       "\n",
       "    .dataframe thead th {\n",
       "        text-align: right;\n",
       "    }\n",
       "</style>\n",
       "<table border=\"1\" class=\"dataframe\">\n",
       "  <thead>\n",
       "    <tr style=\"text-align: right;\">\n",
       "      <th></th>\n",
       "      <th>vin_(1-10)</th>\n",
       "      <th>county</th>\n",
       "      <th>city</th>\n",
       "      <th>state</th>\n",
       "      <th>postal_code</th>\n",
       "      <th>model_year</th>\n",
       "      <th>make</th>\n",
       "      <th>model</th>\n",
       "      <th>electric_vehicle_type</th>\n",
       "      <th>clean_alternative_fuel_vehicle_(cafv)_eligibility</th>\n",
       "      <th>electric_range</th>\n",
       "      <th>base_msrp</th>\n",
       "      <th>legislative_district</th>\n",
       "      <th>dol_vehicle_id</th>\n",
       "      <th>vehicle_location</th>\n",
       "      <th>electric_utility</th>\n",
       "      <th>2020_census_tract</th>\n",
       "    </tr>\n",
       "  </thead>\n",
       "  <tbody>\n",
       "    <tr>\n",
       "      <th>86034</th>\n",
       "      <td>JTMABACA0P</td>\n",
       "      <td>Clark</td>\n",
       "      <td>Washougal</td>\n",
       "      <td>WA</td>\n",
       "      <td>98671.0</td>\n",
       "      <td>2023</td>\n",
       "      <td>Toyota</td>\n",
       "      <td>BZ4X</td>\n",
       "      <td>Battery Electric Vehicle (BEV)</td>\n",
       "      <td>Eligibility unknown as battery range has not b...</td>\n",
       "      <td>0.0</td>\n",
       "      <td>0.0</td>\n",
       "      <td>18.0</td>\n",
       "      <td>228624798</td>\n",
       "      <td>POINT (-122.35341 45.57923)</td>\n",
       "      <td>BONNEVILLE POWER ADMINISTRATION||PUD NO 1 OF C...</td>\n",
       "      <td>5.301104e+10</td>\n",
       "    </tr>\n",
       "    <tr>\n",
       "      <th>93881</th>\n",
       "      <td>7SAYGDEE9R</td>\n",
       "      <td>King</td>\n",
       "      <td>Seattle</td>\n",
       "      <td>WA</td>\n",
       "      <td>98109.0</td>\n",
       "      <td>2024</td>\n",
       "      <td>Tesla</td>\n",
       "      <td>MODEL Y</td>\n",
       "      <td>Battery Electric Vehicle (BEV)</td>\n",
       "      <td>Eligibility unknown as battery range has not b...</td>\n",
       "      <td>0.0</td>\n",
       "      <td>0.0</td>\n",
       "      <td>43.0</td>\n",
       "      <td>267276985</td>\n",
       "      <td>POINT (-122.35022 47.63824)</td>\n",
       "      <td>CITY OF SEATTLE - (WA)|CITY OF TACOMA - (WA)</td>\n",
       "      <td>5.303301e+10</td>\n",
       "    </tr>\n",
       "    <tr>\n",
       "      <th>119095</th>\n",
       "      <td>7SAYGDEE8P</td>\n",
       "      <td>King</td>\n",
       "      <td>Bellevue</td>\n",
       "      <td>WA</td>\n",
       "      <td>98006.0</td>\n",
       "      <td>2023</td>\n",
       "      <td>Tesla</td>\n",
       "      <td>MODEL Y</td>\n",
       "      <td>Battery Electric Vehicle (BEV)</td>\n",
       "      <td>Eligibility unknown as battery range has not b...</td>\n",
       "      <td>0.0</td>\n",
       "      <td>0.0</td>\n",
       "      <td>41.0</td>\n",
       "      <td>257416666</td>\n",
       "      <td>POINT (-122.12096 47.55584)</td>\n",
       "      <td>PUGET SOUND ENERGY INC||CITY OF TACOMA - (WA)</td>\n",
       "      <td>5.303302e+10</td>\n",
       "    </tr>\n",
       "    <tr>\n",
       "      <th>138186</th>\n",
       "      <td>7FCTGAAA3P</td>\n",
       "      <td>King</td>\n",
       "      <td>Bellevue</td>\n",
       "      <td>WA</td>\n",
       "      <td>98004.0</td>\n",
       "      <td>2023</td>\n",
       "      <td>Rivian</td>\n",
       "      <td>R1T</td>\n",
       "      <td>Battery Electric Vehicle (BEV)</td>\n",
       "      <td>Eligibility unknown as battery range has not b...</td>\n",
       "      <td>0.0</td>\n",
       "      <td>0.0</td>\n",
       "      <td>48.0</td>\n",
       "      <td>241680904</td>\n",
       "      <td>POINT (-122.1872 47.61001)</td>\n",
       "      <td>PUGET SOUND ENERGY INC||CITY OF TACOMA - (WA)</td>\n",
       "      <td>5.303302e+10</td>\n",
       "    </tr>\n",
       "    <tr>\n",
       "      <th>71126</th>\n",
       "      <td>1N4AZ1CP3J</td>\n",
       "      <td>Snohomish</td>\n",
       "      <td>Bothell</td>\n",
       "      <td>WA</td>\n",
       "      <td>98012.0</td>\n",
       "      <td>2018</td>\n",
       "      <td>Nissan</td>\n",
       "      <td>LEAF</td>\n",
       "      <td>Battery Electric Vehicle (BEV)</td>\n",
       "      <td>Clean Alternative Fuel Vehicle Eligible</td>\n",
       "      <td>151.0</td>\n",
       "      <td>0.0</td>\n",
       "      <td>1.0</td>\n",
       "      <td>301723201</td>\n",
       "      <td>POINT (-122.21061 47.83448)</td>\n",
       "      <td>PUGET SOUND ENERGY INC</td>\n",
       "      <td>5.306105e+10</td>\n",
       "    </tr>\n",
       "  </tbody>\n",
       "</table>\n",
       "</div>"
      ],
      "text/plain": [
       "        vin_(1-10)     county       city state  postal_code  model_year  \\\n",
       "86034   JTMABACA0P      Clark  Washougal    WA      98671.0        2023   \n",
       "93881   7SAYGDEE9R       King    Seattle    WA      98109.0        2024   \n",
       "119095  7SAYGDEE8P       King   Bellevue    WA      98006.0        2023   \n",
       "138186  7FCTGAAA3P       King   Bellevue    WA      98004.0        2023   \n",
       "71126   1N4AZ1CP3J  Snohomish    Bothell    WA      98012.0        2018   \n",
       "\n",
       "          make    model           electric_vehicle_type  \\\n",
       "86034   Toyota     BZ4X  Battery Electric Vehicle (BEV)   \n",
       "93881    Tesla  MODEL Y  Battery Electric Vehicle (BEV)   \n",
       "119095   Tesla  MODEL Y  Battery Electric Vehicle (BEV)   \n",
       "138186  Rivian      R1T  Battery Electric Vehicle (BEV)   \n",
       "71126   Nissan     LEAF  Battery Electric Vehicle (BEV)   \n",
       "\n",
       "        clean_alternative_fuel_vehicle_(cafv)_eligibility  electric_range  \\\n",
       "86034   Eligibility unknown as battery range has not b...             0.0   \n",
       "93881   Eligibility unknown as battery range has not b...             0.0   \n",
       "119095  Eligibility unknown as battery range has not b...             0.0   \n",
       "138186  Eligibility unknown as battery range has not b...             0.0   \n",
       "71126             Clean Alternative Fuel Vehicle Eligible           151.0   \n",
       "\n",
       "        base_msrp  legislative_district  dol_vehicle_id  \\\n",
       "86034         0.0                  18.0       228624798   \n",
       "93881         0.0                  43.0       267276985   \n",
       "119095        0.0                  41.0       257416666   \n",
       "138186        0.0                  48.0       241680904   \n",
       "71126         0.0                   1.0       301723201   \n",
       "\n",
       "                   vehicle_location  \\\n",
       "86034   POINT (-122.35341 45.57923)   \n",
       "93881   POINT (-122.35022 47.63824)   \n",
       "119095  POINT (-122.12096 47.55584)   \n",
       "138186   POINT (-122.1872 47.61001)   \n",
       "71126   POINT (-122.21061 47.83448)   \n",
       "\n",
       "                                         electric_utility  2020_census_tract  \n",
       "86034   BONNEVILLE POWER ADMINISTRATION||PUD NO 1 OF C...       5.301104e+10  \n",
       "93881        CITY OF SEATTLE - (WA)|CITY OF TACOMA - (WA)       5.303301e+10  \n",
       "119095      PUGET SOUND ENERGY INC||CITY OF TACOMA - (WA)       5.303302e+10  \n",
       "138186      PUGET SOUND ENERGY INC||CITY OF TACOMA - (WA)       5.303302e+10  \n",
       "71126                              PUGET SOUND ENERGY INC       5.306105e+10  "
      ]
     },
     "execution_count": 11,
     "metadata": {},
     "output_type": "execute_result"
    }
   ],
   "source": [
    "df.sample(5)"
   ]
  },
  {
   "cell_type": "markdown",
   "id": "7f8efe7b",
   "metadata": {},
   "source": [
    "## 5️⃣ Exploratory Data Analysis (EDA)"
   ]
  },
  {
   "cell_type": "markdown",
   "id": "ac5398ee",
   "metadata": {},
   "source": [
    "### 📆 EV Adoption Over Time"
   ]
  },
  {
   "cell_type": "code",
   "execution_count": 24,
   "id": "14cddcde",
   "metadata": {},
   "outputs": [
    {
     "data": {
      "image/png": "[encoded data removed]",
      "text/plain": [
       "<Figure size 720x360 with 1 Axes>"
      ]
     },
     "metadata": {
      "needs_background": "light"
     },
     "output_type": "display_data"
    }
   ],
   "source": [
    "plt.figure(figsize=(10, 5))\n",
    "ev_adoption = df['model_year'].value_counts().sort_index()\n",
    "sns.lineplot(x=ev_adoption.index, y=ev_adoption.values, marker='o', color='b')\n",
    "plt.title(\"EV Adoption Over Time\")\n",
    "plt.xlabel(\"Model Year\")\n",
    "plt.ylabel(\"Number of EVs Registered\")\n",
    "plt.grid(True)\n",
    "\n",
    "plt.show()"
   ]
  },
  {
   "cell_type": "markdown",
   "id": "15120664",
   "metadata": {},
   "source": [
    "### 🗺️ Geographical Distribution of EVs"
   ]
  },
  {
   "cell_type": "code",
   "execution_count": 25,
   "id": "46dedb82",
   "metadata": {},
   "outputs": [
    {
     "data": {
      "image/png": "[encoded data removed]",
      "text/plain": [
       "<Figure size 864x432 with 1 Axes>"
      ]
     },
     "metadata": {
      "needs_background": "light"
     },
     "output_type": "display_data"
    }
   ],
   "source": [
    "plt.figure(figsize=(12,6))\n",
    "top_cities = df['city'].value_counts().head(10)\n",
    "sns.barplot(x=top_cities.values, y=top_cities.index, palette='coolwarm')\n",
    "plt.title(\"Top 10 Cities with the Most EV Registrations\")\n",
    "plt.xlabel(\"Number of EVs\")\n",
    "plt.ylabel(\"City\")\n",
    "\n",
    "plt.show()"
   ]
  },
  {
   "cell_type": "markdown",
   "id": "9704a558",
   "metadata": {},
   "source": [
    "### ⚡ Electric Range Analysis"
   ]
  },
  {
   "cell_type": "code",
   "execution_count": 26,
   "id": "47adb280",
   "metadata": {},
   "outputs": [
    {
     "data": {
      "image/png": "[encoded data removed]",
      "text/plain": [
       "<Figure size 720x360 with 1 Axes>"
      ]
     },
     "metadata": {
      "needs_background": "light"
     },
     "output_type": "display_data"
    }
   ],
   "source": [
    "plt.figure(figsize=(10,5))\n",
    "sns.histplot(df['electric_range'], bins=20, kde=True, color='green')\n",
    "plt.title(\"Distribution of Electric Vehicle Ranges\")\n",
    "plt.xlabel(\"Electric Range (Miles)\")\n",
    "plt.ylabel(\"Frequency\")\n",
    "\n",
    "plt.show()"
   ]
  },
  {
   "cell_type": "markdown",
   "id": "8de0a458",
   "metadata": {},
   "source": [
    "### 🔋 Distribution of EV Types with Percentage"
   ]
  },
  {
   "cell_type": "code",
   "execution_count": 27,
   "id": "3543e098",
   "metadata": {},
   "outputs": [
    {
     "data": {
      "image/png": "[encoded data removed]",
      "text/plain": [
       "<Figure size 576x360 with 1 Axes>"
      ]
     },
     "metadata": {
      "needs_background": "light"
     },
     "output_type": "display_data"
    }
   ],
   "source": [
    "plt.figure(figsize=(8,5))\n",
    "ax = sns.countplot(x=df['electric_vehicle_type'], palette='coolwarm')\n",
    "\n",
    "# Adding percentages on bars\n",
    "total = len(df)\n",
    "for p in ax.patches:\n",
    "    percentage = f\"{100 * p.get_height() / total:.1f}%\"\n",
    "    ax.annotate(percentage, (p.get_x() + p.get_width() / 2, p.get_height() + 50), ha='center', fontsize=12, color='black')\n",
    "\n",
    "plt.title(\"Distribution of EV Types\")\n",
    "plt.xlabel(\"EV Type\")\n",
    "plt.ylabel(\"Count\")\n",
    "plt.grid(axis='y', linestyle='--', alpha=0.7)\n",
    "\n",
    "plt.show()\n"
   ]
  },
  {
   "cell_type": "markdown",
   "id": "099193e2",
   "metadata": {},
   "source": [
    "### 🚘 Top 10 EV Manufacturers"
   ]
  },
  {
   "cell_type": "code",
   "execution_count": 28,
   "id": "bfbd01b1",
   "metadata": {},
   "outputs": [
    {
     "data": {
      "image/png": "[encoded data removed]",
      "text/plain": [
       "<Figure size 864x432 with 1 Axes>"
      ]
     },
     "metadata": {
      "needs_background": "light"
     },
     "output_type": "display_data"
    }
   ],
   "source": [
    "plt.figure(figsize=(12,6))\n",
    "top_makers = df['make'].value_counts().nlargest(10)  # Get top 10 manufacturers\n",
    "\n",
    "ax = sns.barplot(x=top_makers.index, y=top_makers.values, palette='viridis')\n",
    "\n",
    "# Adding value labels\n",
    "for p in ax.patches:\n",
    "    ax.annotate(f\"{p.get_height()}\", (p.get_x() + p.get_width() / 2, p.get_height() + 500), ha='center', fontsize=12, color='black')\n",
    "\n",
    "plt.title(\"Top 10 EV Manufacturers\")\n",
    "plt.xlabel(\"Manufacturer\")\n",
    "plt.ylabel(\"Number of Registered EVs\")\n",
    "plt.xticks(rotation=45)\n",
    "plt.grid(axis='y', linestyle='--', alpha=0.7)\n",
    "\n",
    "plt.show()\n"
   ]
  },
  {
   "cell_type": "markdown",
   "id": "28c73a4b",
   "metadata": {},
   "source": [
    "### ⚡ Distribution of Electric Vehicle Ranges"
   ]
  },
  {
   "cell_type": "code",
   "execution_count": 29,
   "id": "093f6e44",
   "metadata": {},
   "outputs": [
    {
     "data": {
      "image/png": "[encoded data removed]",
      "text/plain": [
       "<Figure size 864x432 with 1 Axes>"
      ]
     },
     "metadata": {
      "needs_background": "light"
     },
     "output_type": "display_data"
    }
   ],
   "source": [
    "plt.figure(figsize=(12,6))\n",
    "sns.histplot(df['electric_range'], bins=30, kde=True, color='blue')\n",
    "\n",
    "plt.title(\"Distribution of Electric Vehicle Ranges\")\n",
    "plt.xlabel(\"Electric Range (Miles)\")\n",
    "plt.ylabel(\"Number of Vehicles\")\n",
    "plt.grid(axis='y', linestyle='--', alpha=0.7)\n",
    "\n",
    "plt.show()\n"
   ]
  },
  {
   "cell_type": "markdown",
   "id": "db73e82b",
   "metadata": {},
   "source": [
    "### 📈 Estimated Growth in Market Size"
   ]
  },
  {
   "cell_type": "markdown",
   "id": "0d358d45",
   "metadata": {},
   "source": [
    "#### 📊 Aggregate EV count by model year"
   ]
  },
  {
   "cell_type": "code",
   "execution_count": 18,
   "id": "34441465",
   "metadata": {},
   "outputs": [],
   "source": [
    "ev_trend = df['model_year'].value_counts().sort_index()  # Count EV registrations per year\n",
    "years = ev_trend.index.values  # Extract years\n",
    "ev_count = ev_trend.values  # Extract EV counts"
   ]
  },
  {
   "cell_type": "markdown",
   "id": "6056bdac",
   "metadata": {},
   "source": [
    "#### 🔄 Convert data to NumPy arrays for mathematical operations"
   ]
  },
  {
   "cell_type": "code",
   "execution_count": 19,
   "id": "36bff8eb",
   "metadata": {},
   "outputs": [],
   "source": [
    "years = np.array(years, dtype=int)\n",
    "ev_count = np.array(ev_count, dtype=int)"
   ]
  },
  {
   "cell_type": "markdown",
   "id": "3ddbf902",
   "metadata": {},
   "source": [
    "#### 📈 Fit Linear Regression (Degree 1)"
   ]
  },
  {
   "cell_type": "code",
   "execution_count": 20,
   "id": "9d7f66f0",
   "metadata": {},
   "outputs": [],
   "source": [
    "linear_coeffs = np.polyfit(years, ev_count, 1)  # Find best-fit line coefficients\n",
    "linear_model = np.poly1d(linear_coeffs)  # Create linear model function\n"
   ]
  },
  {
   "cell_type": "markdown",
   "id": "d5e38358",
   "metadata": {},
   "source": [
    "#### 🏎️ Fit Polynomial Regression (Degree 3)"
   ]
  },
  {
   "cell_type": "code",
   "execution_count": 21,
   "id": "aca28644",
   "metadata": {},
   "outputs": [],
   "source": [
    "degree = 3  # Higher degree captures trends better\n",
    "poly_coeffs = np.polyfit(years, ev_count, degree)  # Find best-fit polynomial coefficients\n",
    "poly_model = np.poly1d(poly_coeffs)  # Create polynomial model function\n"
   ]
  },
  {
   "cell_type": "markdown",
   "id": "22957ea4",
   "metadata": {},
   "source": [
    "#### 📅 Generate Predictions for Future Years (2026-2030)"
   ]
  },
  {
   "cell_type": "code",
   "execution_count": 22,
   "id": "02b47044",
   "metadata": {},
   "outputs": [],
   "source": [
    "future_years = np.arange(2026, 2031)  # Define future years for prediction\n",
    "linear_predictions = linear_model(future_years)  # Predict future EV counts (linear model)\n",
    "poly_predictions = poly_model(future_years)  # Predict future EV counts (polynomial model)"
   ]
  },
  {
   "cell_type": "markdown",
   "id": "9c22849e",
   "metadata": {},
   "source": [
    "#### 🔍 Visualization: Compare Actual Data & Predictions"
   ]
  },
  {
   "cell_type": "code",
   "execution_count": 30,
   "id": "46d92d13",
   "metadata": {},
   "outputs": [
    {
     "data": {
      "image/png": "[encoded data removed]",
      "text/plain": [
       "<Figure size 720x360 with 1 Axes>"
      ]
     },
     "metadata": {
      "needs_background": "light"
     },
     "output_type": "display_data"
    }
   ],
   "source": [
    "plt.figure(figsize=(10, 5))  # Set figure size\n",
    "\n",
    "# 🔵 Scatter plot for actual EV data\n",
    "sns.scatterplot(x=years, y=ev_count, label=\"Actual Data\", color=\"blue\")\n",
    "\n",
    "# 🟠 Line plot for Linear Regression\n",
    "sns.lineplot(x=years, y=linear_model(years), label=\"Linear Regression\", color=\"orange\")\n",
    "\n",
    "# 🟢 Line plot for Polynomial Regression (Degree 3)\n",
    "sns.lineplot(x=years, y=poly_model(years), label=\"Polynomial Regression (Degree 3)\", color=\"green\")\n",
    "\n",
    "# 🔴 Future Predictions using Linear Model\n",
    "sns.scatterplot(x=future_years, y=linear_predictions, label=\"Linear Prediction (2026-2030)\", color=\"red\", marker=\"o\")\n",
    "\n",
    "# 🟣 Future Predictions using Polynomial Model\n",
    "sns.scatterplot(x=future_years, y=poly_predictions, label=\"Polynomial Prediction (2026-2030)\", color=\"purple\", marker=\"o\")\n",
    "\n",
    "# 📌 Mark Prediction Start (2025) with a vertical dashed line\n",
    "plt.axvline(x=2025, linestyle=\"--\", color=\"gray\", label=\"Prediction Start\")\n",
    "\n",
    "# 🏷️ Labels & Title\n",
    "plt.xlabel(\"Year\")\n",
    "plt.ylabel(\"Number of EVs Registered\")\n",
    "plt.title(\"EV Growth Prediction: Linear vs. Polynomial Regression\")\n",
    "plt.legend()  # Show legend\n",
    "plt.grid()  # Enable grid\n",
    "\n",
    "\n",
    "plt.show()\n"
   ]
  },
  {
   "cell_type": "markdown",
   "id": "bbe36bdb",
   "metadata": {},
   "source": [
    "#### **Techniques Used:**\n",
    "1. **Linear Regression (Degree 1)**: Assumes a constant rate of growth in EV adoption.\n",
    "2. **Polynomial Regression (Degree 3)**: Captures more complex, nonlinear growth trends.\n",
    "\n",
    "#### **Why Compare Both?**\n",
    "- **Linear Regression** provides a simple trend analysis but may not capture changes in adoption rate.\n",
    "- **Polynomial Regression** is more flexible and better models accelerated EV adoption due to technological advancements and government policies."
   ]
  },
  {
   "cell_type": "markdown",
   "id": "2c9fec77",
   "metadata": {},
   "source": [
    "#### 📌 Explanation of the Methods Used\n",
    "\n",
    "##### 🔹 **Linear Regression**\n",
    "This method assumes a straight-line relationship between the years and EV count.  \n",
    "It fits the equation:  \n",
    "\\[\n",
    "EV\\_Count = m \\times Year + b\n",
    "\\]\n",
    "- Simple to interpret  \n",
    "- Works well for trends that increase consistently over time  \n",
    "\n",
    "##### 🔹 **Polynomial Regression (Degree 3)**\n",
    "This method fits a curved line to better capture fluctuations in growth.  \n",
    "It fits the equation:  \n",
    "\\[\n",
    "EV\\_Count = a \\times Year^3 + b \\times Year^2 + c \\times Year + d\n",
    "\\]\n",
    "- Can model complex growth patterns  \n",
    "- More flexible but can lead to overfitting  \n",
    "\n",
    "##### 🔹 **Comparison**\n",
    "- If EV growth follows a steady increase, **Linear Regression** might be sufficient.  \n",
    "- If growth shows fluctuations or acceleration over time, **Polynomial Regression** is a better fit.  \n",
    "\n",
    "✅ The results indicate that while **linear regression provides a basic trend**, the **polynomial model captures variations in growth more effectively**. However, predictions should be interpreted carefully to avoid overfitting.\n"
   ]
  },
  {
   "cell_type": "markdown",
   "id": "3fdaafc8",
   "metadata": {},
   "source": [
    "## 6️⃣📌 Conclusion\n",
    "\n",
    "### 🔹 Electric Vehicle Population Analysis\n",
    "\n",
    "#### 1️⃣ Summary of Findings\n",
    "\n",
    "- **📈 EV Growth Over Time**: The number of registered EVs has increased significantly, indicating a rising adoption trend.\n",
    "- **🗺️ Geographical Distribution**: Certain cities and states have a higher concentration of EVs, influenced by policies and charging infrastructure.\n",
    "- **🔋 EV Type Distribution**: Battery Electric Vehicles (BEVs) are more common than Plug-in Hybrid Electric Vehicles (PHEVs), showing a shift toward full electrification.\n",
    "- **🚘 Popular Manufacturers**: Tesla, Nissan, and other major brands dominate the EV market.\n",
    "- **⚡ Electric Range Improvements**: Advancements in battery technology are leading to longer-range EVs, enhancing usability.\n",
    "- **📊 Market Growth Prediction**: Polynomial regression suggests an accelerating adoption rate, while linear regression provides a steady growth estimate.\n",
    "\n",
    "#### 2️⃣ Key Takeaways\n",
    "\n",
    "- The **EV industry is growing rapidly**, with increased adoption driven by environmental concerns, government incentives, and technological improvements.\n",
    "- **Charging infrastructure and affordability** remain critical challenges for wider adoption.\n",
    "- **Future market expansion** is expected, with further improvements in battery range and cost efficiency.\n",
    "\n",
    "#### 3️⃣ Final Thoughts\n",
    "\n",
    "With continued advancements in EV technology and supportive government policies, the transition to electric mobility is becoming more feasible. However, addressing infrastructure gaps and affordability challenges will be crucial to sustaining this growth.\n"
   ]
  }
 ],
 "metadata": {
  "kernelspec": {
   "display_name": "Python 3 (ipykernel)",
   "language": "python",
   "name": "python3"
  },
  "language_info": {
   "codemirror_mode": {
    "name": "ipython",
    "version": 3
   },
   "file_extension": ".py",
   "mimetype": "text/x-python",
   "name": "python",
   "nbconvert_exporter": "python",
   "pygments_lexer": "ipython3",
   "version": "3.9.7"
  }
 },
 "nbformat": 4,
 "nbformat_minor": 5
}
